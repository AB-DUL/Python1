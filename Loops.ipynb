{
 "cells": [
  {
   "cell_type": "code",
   "execution_count": 1,
   "metadata": {},
   "outputs": [
    {
     "name": "stdout",
     "output_type": "stream",
     "text": [
      "enter a number:12\n",
      "enter operator:+\n",
      "enter a number:33\n",
      "press = to see the result\n",
      "=\n",
      "45\n"
     ]
    }
   ],
   "source": [
    "num1 = int(input(\"enter a number:\"))\n",
    "op = input(\"enter operator:\")\n",
    "num2 = int(input(\"enter a number:\"))\n",
    "\n",
    "print(\"press = to see the result\")\n",
    "enter = input()\n",
    "if enter == \"=\" :\n",
    "    if op == \"+\" :\n",
    "        print(num1+num2)\n",
    "    elif op == \"-\" :\n",
    "        print(num1-num2)\n",
    "    elif op == \"*\" :\n",
    "        print(num1*num2)\n",
    "    elif op == \"/\" :\n",
    "        print(num1/num2)\n",
    "    else :\n",
    "        print(\"ERROR : enter a valid operator\")\n",
    "else :\n",
    "    print(\"press =\")\n"
   ]
  },
  {
   "cell_type": "code",
   "execution_count": 4,
   "metadata": {},
   "outputs": [
    {
     "name": "stdout",
     "output_type": "stream",
     "text": [
      "10\n",
      "9\n",
      "8\n",
      "7\n",
      "6\n",
      "5\n",
      "4\n",
      "3\n",
      "2\n",
      "1\n"
     ]
    }
   ],
   "source": [
    "val=10\n",
    "while val>=1:\n",
    "    print(val)\n",
    "    val-=1\n",
    "    "
   ]
  },
  {
   "cell_type": "code",
   "execution_count": 5,
   "metadata": {},
   "outputs": [
    {
     "ename": "SyntaxError",
     "evalue": "invalid syntax (<ipython-input-5-1672594288ea>, line 2)",
     "output_type": "error",
     "traceback": [
      "\u001b[1;36m  File \u001b[1;32m\"<ipython-input-5-1672594288ea>\"\u001b[1;36m, line \u001b[1;32m2\u001b[0m\n\u001b[1;33m    \" \".join(/)\u001b[0m\n\u001b[1;37m             ^\u001b[0m\n\u001b[1;31mSyntaxError\u001b[0m\u001b[1;31m:\u001b[0m invalid syntax\n"
     ]
    }
   ],
   "source": [
    "l=[\"Jaheda\", \"is\", \"good\"]\n",
    "\" \".join(/)\n"
   ]
  },
  {
   "cell_type": "code",
   "execution_count": null,
   "metadata": {},
   "outputs": [],
   "source": []
  }
 ],
 "metadata": {
  "kernelspec": {
   "display_name": "Python 3",
   "language": "python",
   "name": "python3"
  },
  "language_info": {
   "codemirror_mode": {
    "name": "ipython",
    "version": 3
   },
   "file_extension": ".py",
   "mimetype": "text/x-python",
   "name": "python",
   "nbconvert_exporter": "python",
   "pygments_lexer": "ipython3",
   "version": "3.7.6"
  }
 },
 "nbformat": 4,
 "nbformat_minor": 4
}
